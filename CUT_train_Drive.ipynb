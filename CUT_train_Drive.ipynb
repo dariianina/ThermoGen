{
  "nbformat": 4,
  "nbformat_minor": 0,
  "metadata": {
    "colab": {
      "name": "CUT-train-Drive.ipynb",
      "provenance": [],
      "machine_shape": "hm",
      "include_colab_link": true
    },
    "kernelspec": {
      "name": "python3",
      "display_name": "Python 3"
    },
    "accelerator": "GPU"
  },
  "cells": [
    {
      "cell_type": "markdown",
      "metadata": {
        "id": "view-in-github",
        "colab_type": "text"
      },
      "source": [
        "<a href=\"https://colab.research.google.com/github/dariianina/ThermoGen/blob/main/CUT_train_Drive.ipynb\" target=\"_parent\"><img src=\"https://colab.research.google.com/assets/colab-badge.svg\" alt=\"Open In Colab\"/></a>"
      ]
    },
    {
      "cell_type": "markdown",
      "metadata": {
        "id": "TVR4bEt9Ptel"
      },
      "source": [
        "#CUT\n",
        "This new model uses contrastive learning (the hot technique of the moment) to better train unaligned image to image translation (i.e. CycleGAN)\n",
        "\n",
        "[GitHub](https://github.com/taesungp/contrastive-unpaired-translation) | [Website](http://taesung.me/ContrastiveUnpairedTranslation/)"
      ]
    },
    {
      "cell_type": "code",
      "metadata": {
        "id": "Xzc2aQYcXo7-",
        "colab": {
          "base_uri": "https://localhost:8080/"
        },
        "outputId": "1453328a-6eb3-4450-d7e8-5cc36230d28e"
      },
      "source": [
        "from google.colab import drive\n",
        "drive.mount('/content/drive')"
      ],
      "execution_count": 1,
      "outputs": [
        {
          "output_type": "stream",
          "name": "stdout",
          "text": [
            "Mounted at /content/drive\n"
          ]
        }
      ]
    },
    {
      "cell_type": "code",
      "metadata": {
        "id": "RwtxgK2rYAiN",
        "colab": {
          "base_uri": "https://localhost:8080/"
        },
        "outputId": "5d9bf030-ea52-4375-9cba-efad13503623"
      },
      "source": [
        "import os\n",
        "if os.path.isdir(\"/content/drive/My Drive/colab-cut-test/CUT\"):\n",
        "    %cd /content/drive/My\\ Drive/colab-cut-test/CUT\n",
        "else:\n",
        "    %cd /content/drive/My\\ Drive\n",
        "    #!mkdir colab-cut-test\n",
        "    %cd ./colab-cut-test/\n",
        "    #!git clone https://github.com/taesungp/contrastive-unpaired-translation CUT\n",
        "    %cd CUT\n",
        "\n",
        "#dependencies\n",
        "#!pip install dominate visdom GPUtil"
      ],
      "execution_count": 1,
      "outputs": [
        {
          "output_type": "stream",
          "name": "stdout",
          "text": [
            "/content/drive/My Drive/colab-cut-test/CUT\n"
          ]
        }
      ]
    },
    {
      "cell_type": "markdown",
      "metadata": {
        "id": "n1tdZoGaMOGf"
      },
      "source": [
        "## Download pre-built datasets\n",
        "\n",
        "**For custom datasets:** create a folder in `./datasets` and put two folders inside it. `trainA` should contain images from one domain and `trainB` should contain images from another domain."
      ]
    },
    {
      "cell_type": "code",
      "metadata": {
        "id": "uRI0XL6xK386"
      },
      "source": [
        "#datasets available: apple2orange, summer2winter_yosemite, horse2zebra, monet2photo, cezanne2photo, ukiyoe2photo, vangogh2photo, maps, cityscapes, facades, iphone2dslr_flower, ae_photos, grumpifycat\n",
        "dataset = \"horse2zebra\"\n",
        "#example: download the russian blue cats to grumpy cats dataset\n",
        "!bash ./datasets/download_cut_dataset.sh $dataset"
      ],
      "execution_count": null,
      "outputs": []
    },
    {
      "cell_type": "code",
      "source": [
        "dataset = \"rgb2therm\"\n",
        "#!git clone https://github.com/vision-cidis/CIDIS-dataset.git"
      ],
      "metadata": {
        "id": "lXWQbFt689li"
      },
      "execution_count": 2,
      "outputs": []
    },
    {
      "cell_type": "code",
      "source": [
        "!cp -r ./CIDIS-dataset/dataset/visible/train ./datasets/rgb2therm/trainA\n",
        "!cp -r ./CIDIS-dataset/dataset/visible/test ./datasets/rgb2therm/testA\n",
        "!cp -r ./CIDIS-dataset/dataset/thermal/train ./datasets/rgb2therm/trainB\n",
        "!cp -r ./CIDIS-dataset/dataset/thermal/test ./datasets/rgb2therm/testB"
      ],
      "metadata": {
        "id": "3hET0Wjq9p21"
      },
      "execution_count": 10,
      "outputs": []
    },
    {
      "cell_type": "markdown",
      "source": [
        "RGB to greyscale"
      ],
      "metadata": {
        "id": "phAYiRxbfXfb"
      }
    },
    {
      "cell_type": "code",
      "source": [],
      "metadata": {
        "id": "B6Zeq3UMf63Q"
      },
      "execution_count": null,
      "outputs": []
    },
    {
      "cell_type": "markdown",
      "metadata": {
        "id": "IriT_YgSdQ-z"
      },
      "source": [
        "## Train\n"
      ]
    },
    {
      "cell_type": "code",
      "metadata": {
        "id": "oycbT_1odWFf"
      },
      "source": [
        "dataset_path = './datasets/' + dataset\n",
        "project_name = dataset + '_CUT'\n",
        "load_size = 286\n",
        "crop_size = 256"
      ],
      "execution_count": 7,
      "outputs": []
    },
    {
      "cell_type": "code",
      "metadata": {
        "id": "Aa_XrrrmddF7",
        "colab": {
          "base_uri": "https://localhost:8080/"
        },
        "outputId": "0bca5eac-9a3d-4b5d-f470-85d19c167743"
      },
      "source": [
        "!python train.py --max_dataset_size 64 --continue_train --dataroot $dataset_path --name $project_name --CUT_mode CUT --load_size $load_size --crop_size $crop_size --display_id 0"
      ],
      "execution_count": 9,
      "outputs": [
        {
          "output_type": "stream",
          "name": "stdout",
          "text": [
            "----------------- Options ---------------\n",
            "                 CUT_mode: CUT                           \n",
            "               batch_size: 1                             \n",
            "                    beta1: 0.5                           \n",
            "                    beta2: 0.999                         \n",
            "          checkpoints_dir: ./checkpoints                 \n",
            "           continue_train: True                          \t[default: False]\n",
            "                crop_size: 256                           \n",
            "                 dataroot: ./datasets/rgb2therm          \t[default: placeholder]\n",
            "             dataset_mode: unaligned                     \n",
            "                direction: AtoB                          \n",
            "              display_env: main                          \n",
            "             display_freq: 400                           \n",
            "               display_id: 0                             \t[default: None]\n",
            "            display_ncols: 4                             \n",
            "             display_port: 8097                          \n",
            "           display_server: http://localhost              \n",
            "          display_winsize: 256                           \n",
            "               easy_label: experiment_name               \n",
            "                    epoch: latest                        \n",
            "              epoch_count: 1                             \n",
            "          evaluation_freq: 5000                          \n",
            "        flip_equivariance: False                         \n",
            "                 gan_mode: lsgan                         \n",
            "                  gpu_ids: 0                             \n",
            "                init_gain: 0.02                          \n",
            "                init_type: xavier                        \n",
            "                 input_nc: 3                             \n",
            "                  isTrain: True                          \t[default: None]\n",
            "               lambda_GAN: 1.0                           \n",
            "               lambda_NCE: 1.0                           \n",
            "                load_size: 441                           \t[default: 286]\n",
            "                       lr: 0.0002                        \n",
            "           lr_decay_iters: 50                            \n",
            "                lr_policy: linear                        \n",
            "         max_dataset_size: 64                            \t[default: inf]\n",
            "                    model: cut                           \n",
            "                 n_epochs: 200                           \n",
            "           n_epochs_decay: 200                           \n",
            "               n_layers_D: 3                             \n",
            "                     name: rgb2therm_CUT                 \t[default: experiment_name]\n",
            "                    nce_T: 0.07                          \n",
            "                  nce_idt: True                          \n",
            "nce_includes_all_negatives_from_minibatch: False                         \n",
            "               nce_layers: 0,4,8,12,16                   \n",
            "                      ndf: 64                            \n",
            "                     netD: basic                         \n",
            "                     netF: mlp_sample                    \n",
            "                  netF_nc: 256                           \n",
            "                     netG: resnet_9blocks                \n",
            "                      ngf: 64                            \n",
            "             no_antialias: False                         \n",
            "          no_antialias_up: False                         \n",
            "               no_dropout: True                          \n",
            "                  no_flip: False                         \n",
            "                  no_html: False                         \n",
            "                    normD: instance                      \n",
            "                    normG: instance                      \n",
            "              num_patches: 256                           \n",
            "              num_threads: 4                             \n",
            "                output_nc: 3                             \n",
            "                    phase: train                         \n",
            "                pool_size: 0                             \n",
            "               preprocess: resize_and_crop               \n",
            "          pretrained_name: None                          \n",
            "               print_freq: 100                           \n",
            "         random_scale_max: 3.0                           \n",
            "             save_by_iter: False                         \n",
            "          save_epoch_freq: 5                             \n",
            "         save_latest_freq: 5000                          \n",
            "           serial_batches: False                         \n",
            "stylegan2_G_num_downsampling: 1                             \n",
            "                   suffix:                               \n",
            "         update_html_freq: 1000                          \n",
            "                  verbose: False                         \n",
            "----------------- End -------------------\n",
            "dataset [UnalignedDataset] was created\n",
            "model [CUTModel] was created\n",
            "The number of training images = 64\n",
            "create web directory ./checkpoints/rgb2therm_CUT/web...\n",
            "/content/drive/MyDrive/colab-cut-test/CUT/models/networks.py:569: UserWarning: To copy construct from a tensor, it is recommended to use sourceTensor.clone().detach() or sourceTensor.clone().detach().requires_grad_(True), rather than torch.tensor(sourceTensor).\n",
            "  patch_id = torch.tensor(patch_id, dtype=torch.long, device=feat.device)\n",
            "loading the model from ./checkpoints/rgb2therm_CUT/latest_net_G.pth\n",
            "loading the model from ./checkpoints/rgb2therm_CUT/latest_net_F.pth\n",
            "loading the model from ./checkpoints/rgb2therm_CUT/latest_net_D.pth\n",
            "---------- Networks initialized -------------\n",
            "[Network G] Total number of parameters : 11.378 M\n",
            "[Network F] Total number of parameters : 0.560 M\n",
            "[Network D] Total number of parameters : 2.765 M\n",
            "-----------------------------------------------\n",
            "End of epoch 1 / 400 \t Time Taken: 33 sec\n",
            "learning rate = 0.0002000\n",
            "(epoch: 2, iters: 36, time: 0.239, data: 0.104) G_GAN: 0.955 D_real: 0.031 D_fake: 0.023 G: 2.766 NCE: 1.814 NCE_Y: 1.807 \n",
            "End of epoch 2 / 400 \t Time Taken: 25 sec\n",
            "learning rate = 0.0002000\n",
            "End of epoch 3 / 400 \t Time Taken: 25 sec\n",
            "learning rate = 0.0002000\n",
            "(epoch: 4, iters: 8, time: 0.300, data: 0.002) G_GAN: 1.257 D_real: 0.051 D_fake: 0.119 G: 3.096 NCE: 2.312 NCE_Y: 1.366 \n",
            "End of epoch 4 / 400 \t Time Taken: 25 sec\n",
            "learning rate = 0.0002000\n",
            "(epoch: 5, iters: 44, time: 0.341, data: 0.002) G_GAN: 1.035 D_real: 0.009 D_fake: 0.020 G: 2.568 NCE: 1.826 NCE_Y: 1.239 \n",
            "saving the model at the end of epoch 5, iters 320\n",
            "End of epoch 5 / 400 \t Time Taken: 26 sec\n",
            "learning rate = 0.0002000\n",
            "End of epoch 6 / 400 \t Time Taken: 25 sec\n",
            "learning rate = 0.0002000\n",
            "(epoch: 7, iters: 16, time: 0.364, data: 0.002) G_GAN: 0.259 D_real: 0.747 D_fake: 0.130 G: 1.853 NCE: 1.878 NCE_Y: 1.309 \n",
            "End of epoch 7 / 400 \t Time Taken: 26 sec\n",
            "learning rate = 0.0002000\n",
            "(epoch: 8, iters: 52, time: 0.379, data: 0.002) G_GAN: 0.316 D_real: 0.202 D_fake: 0.238 G: 2.065 NCE: 1.867 NCE_Y: 1.630 \n",
            "End of epoch 8 / 400 \t Time Taken: 26 sec\n",
            "learning rate = 0.0002000\n",
            "End of epoch 9 / 400 \t Time Taken: 25 sec\n",
            "learning rate = 0.0002000\n",
            "(epoch: 10, iters: 24, time: 0.388, data: 0.002) G_GAN: 0.827 D_real: 0.028 D_fake: 0.017 G: 2.146 NCE: 1.413 NCE_Y: 1.227 \n",
            "saving the model at the end of epoch 10, iters 640\n",
            "End of epoch 10 / 400 \t Time Taken: 26 sec\n",
            "learning rate = 0.0002000\n",
            "(epoch: 11, iters: 60, time: 0.393, data: 0.001) G_GAN: 0.996 D_real: 0.005 D_fake: 0.006 G: 2.988 NCE: 2.646 NCE_Y: 1.339 \n",
            "End of epoch 11 / 400 \t Time Taken: 26 sec\n",
            "learning rate = 0.0002000\n",
            "End of epoch 12 / 400 \t Time Taken: 26 sec\n",
            "learning rate = 0.0002000\n",
            "(epoch: 13, iters: 32, time: 0.397, data: 0.002) G_GAN: 1.001 D_real: 0.011 D_fake: 0.006 G: 2.468 NCE: 1.738 NCE_Y: 1.195 \n",
            "End of epoch 13 / 400 \t Time Taken: 26 sec\n",
            "learning rate = 0.0002000\n",
            "End of epoch 14 / 400 \t Time Taken: 26 sec\n",
            "learning rate = 0.0002000\n",
            "(epoch: 15, iters: 4, time: 0.399, data: 0.002) G_GAN: 0.470 D_real: 0.148 D_fake: 0.314 G: 1.881 NCE: 1.328 NCE_Y: 1.494 \n",
            "saving the model at the end of epoch 15, iters 960\n",
            "End of epoch 15 / 400 \t Time Taken: 26 sec\n",
            "learning rate = 0.0002000\n",
            "(epoch: 16, iters: 40, time: 0.400, data: 0.002) G_GAN: 0.459 D_real: 0.069 D_fake: 0.272 G: 1.760 NCE: 1.363 NCE_Y: 1.239 \n",
            "End of epoch 16 / 400 \t Time Taken: 26 sec\n",
            "learning rate = 0.0002000\n",
            "End of epoch 17 / 400 \t Time Taken: 25 sec\n",
            "learning rate = 0.0002000\n",
            "(epoch: 18, iters: 12, time: 0.401, data: 0.002) G_GAN: 0.503 D_real: 0.473 D_fake: 0.288 G: 1.890 NCE: 1.480 NCE_Y: 1.293 \n",
            "End of epoch 18 / 400 \t Time Taken: 26 sec\n",
            "learning rate = 0.0002000\n",
            "(epoch: 19, iters: 48, time: 0.401, data: 0.002) G_GAN: 0.805 D_real: 0.105 D_fake: 0.054 G: 2.475 NCE: 1.558 NCE_Y: 1.782 \n",
            "End of epoch 19 / 400 \t Time Taken: 26 sec\n",
            "learning rate = 0.0002000\n",
            "saving the model at the end of epoch 20, iters 1280\n",
            "End of epoch 20 / 400 \t Time Taken: 26 sec\n",
            "learning rate = 0.0002000\n",
            "(epoch: 21, iters: 20, time: 0.402, data: 0.001) G_GAN: 0.800 D_real: 0.072 D_fake: 0.161 G: 2.288 NCE: 1.399 NCE_Y: 1.577 \n",
            "End of epoch 21 / 400 \t Time Taken: 26 sec\n",
            "learning rate = 0.0002000\n",
            "(epoch: 22, iters: 56, time: 0.401, data: 0.002) G_GAN: 0.871 D_real: 0.016 D_fake: 0.012 G: 2.319 NCE: 1.414 NCE_Y: 1.483 \n",
            "End of epoch 22 / 400 \t Time Taken: 25 sec\n",
            "learning rate = 0.0002000\n",
            "End of epoch 23 / 400 \t Time Taken: 25 sec\n",
            "learning rate = 0.0002000\n",
            "(epoch: 24, iters: 28, time: 0.402, data: 0.002) G_GAN: 0.973 D_real: 0.021 D_fake: 0.008 G: 2.504 NCE: 1.888 NCE_Y: 1.175 \n",
            "End of epoch 24 / 400 \t Time Taken: 26 sec\n",
            "learning rate = 0.0002000\n",
            "(epoch: 25, iters: 64, time: 0.402, data: 0.002) G_GAN: 0.628 D_real: 0.145 D_fake: 0.045 G: 2.063 NCE: 1.366 NCE_Y: 1.504 \n",
            "saving the model at the end of epoch 25, iters 1600\n",
            "End of epoch 25 / 400 \t Time Taken: 26 sec\n",
            "learning rate = 0.0002000\n",
            "End of epoch 26 / 400 \t Time Taken: 25 sec\n",
            "learning rate = 0.0002000\n",
            "Traceback (most recent call last):\n",
            "  File \"/content/drive/MyDrive/colab-cut-test/CUT/train.py\", line 47, in <module>\n",
            "    model.optimize_parameters()   # calculate loss functions, get gradients, update network weights\n",
            "    ^^^^^^^^^^^^^^^^^^^^^^^^^^^\n",
            "  File \"/content/drive/MyDrive/colab-cut-test/CUT/models/cut_model.py\", line 130, in optimize_parameters\n",
            "    self.loss_G.backward()\n",
            "  File \"/usr/local/lib/python3.11/dist-packages/torch/_tensor.py\", line 626, in backward\n",
            "    torch.autograd.backward(\n",
            "  File \"/usr/local/lib/python3.11/dist-packages/torch/autograd/__init__.py\", line 347, in backward\n",
            "    _engine_run_backward(\n",
            "  File \"/usr/local/lib/python3.11/dist-packages/torch/autograd/graph.py\", line 823, in _engine_run_backward\n",
            "    return Variable._execution_engine.run_backward(  # Calls into the C++ engine to run the backward pass\n",
            "           ^^^^^^^^^^^^^^^^^^^^^^^^^^^^^^^^^^^^^^^^^^^^^^^^^^^^^^^^^^^^^^^^^^^^^^^^^^^^^^^^^^^^^^^^^^^^^^\n",
            "KeyboardInterrupt\n"
          ]
        }
      ]
    },
    {
      "cell_type": "code",
      "metadata": {
        "id": "d86nrzqbDZTs",
        "colab": {
          "base_uri": "https://localhost:8080/"
        },
        "outputId": "3894af4f-c4c4-47ba-8fc2-876b909210c4"
      },
      "source": [
        "!ls ./checkpoints/rbd2therm_CUT/"
      ],
      "execution_count": 11,
      "outputs": [
        {
          "output_type": "stream",
          "name": "stdout",
          "text": [
            "ls: cannot access './checkpoints/rbd2therm_CUT/': No such file or directory\n"
          ]
        }
      ]
    },
    {
      "cell_type": "code",
      "metadata": {
        "id": "7I8v8p6qa8bN",
        "colab": {
          "base_uri": "https://localhost:8080/",
          "height": 17
        },
        "outputId": "ed2ea27a-8128-4957-a7ba-7a95cccb63ec"
      },
      "source": [
        "from google.colab import files\n",
        "files.download('./checkpoints/rgb2therm_CUT/latest_net_F.pth')"
      ],
      "execution_count": 6,
      "outputs": [
        {
          "output_type": "display_data",
          "data": {
            "text/plain": [
              "<IPython.core.display.Javascript object>"
            ],
            "application/javascript": [
              "\n",
              "    async function download(id, filename, size) {\n",
              "      if (!google.colab.kernel.accessAllowed) {\n",
              "        return;\n",
              "      }\n",
              "      const div = document.createElement('div');\n",
              "      const label = document.createElement('label');\n",
              "      label.textContent = `Downloading \"${filename}\": `;\n",
              "      div.appendChild(label);\n",
              "      const progress = document.createElement('progress');\n",
              "      progress.max = size;\n",
              "      div.appendChild(progress);\n",
              "      document.body.appendChild(div);\n",
              "\n",
              "      const buffers = [];\n",
              "      let downloaded = 0;\n",
              "\n",
              "      const channel = await google.colab.kernel.comms.open(id);\n",
              "      // Send a message to notify the kernel that we're ready.\n",
              "      channel.send({})\n",
              "\n",
              "      for await (const message of channel.messages) {\n",
              "        // Send a message to notify the kernel that we're ready.\n",
              "        channel.send({})\n",
              "        if (message.buffers) {\n",
              "          for (const buffer of message.buffers) {\n",
              "            buffers.push(buffer);\n",
              "            downloaded += buffer.byteLength;\n",
              "            progress.value = downloaded;\n",
              "          }\n",
              "        }\n",
              "      }\n",
              "      const blob = new Blob(buffers, {type: 'application/binary'});\n",
              "      const a = document.createElement('a');\n",
              "      a.href = window.URL.createObjectURL(blob);\n",
              "      a.download = filename;\n",
              "      div.appendChild(a);\n",
              "      a.click();\n",
              "      div.remove();\n",
              "    }\n",
              "  "
            ]
          },
          "metadata": {}
        },
        {
          "output_type": "display_data",
          "data": {
            "text/plain": [
              "<IPython.core.display.Javascript object>"
            ],
            "application/javascript": [
              "download(\"download_4cfdcfc0-15d7-4894-9392-a5c1089e186b\", \"latest_net_F.pth\", 2248402)"
            ]
          },
          "metadata": {}
        }
      ]
    },
    {
      "cell_type": "markdown",
      "metadata": {
        "id": "AbBSlniqPEiK"
      },
      "source": [
        "##Test\n",
        "\n",
        "\n",
        "\n",
        "*   `--num_test`: how many test images to produce\n",
        "*   `--direction`: `AtoB` or `BtoA`\n",
        "\n",
        "\n",
        "\n"
      ]
    },
    {
      "cell_type": "code",
      "metadata": {
        "id": "7vgnZhxLOEHf",
        "colab": {
          "base_uri": "https://localhost:8080/"
        },
        "outputId": "7e2c5781-851e-4ab1-da9e-1ceb47fe6d7d"
      },
      "source": [
        "!python test.py --dataroot ./datasets/rgb2therm/ --direction AtoB --max_dataset_size 64 --name rgb2therm_CUT --load_size 441 --crop_size 441 --CUT_mode CUT"
      ],
      "execution_count": 15,
      "outputs": [
        {
          "output_type": "stream",
          "name": "stdout",
          "text": [
            "----------------- Options ---------------\n",
            "                 CUT_mode: CUT                           \n",
            "               batch_size: 1                             \n",
            "          checkpoints_dir: ./checkpoints                 \n",
            "                crop_size: 441                           \t[default: 256]\n",
            "                 dataroot: ./datasets/rgb2therm/         \t[default: placeholder]\n",
            "             dataset_mode: unaligned                     \n",
            "                direction: AtoB                          \n",
            "          display_winsize: 256                           \n",
            "               easy_label: experiment_name               \n",
            "                    epoch: latest                        \n",
            "                     eval: False                         \n",
            "        flip_equivariance: False                         \n",
            "                  gpu_ids: 0                             \n",
            "                init_gain: 0.02                          \n",
            "                init_type: xavier                        \n",
            "                 input_nc: 3                             \n",
            "                  isTrain: False                         \t[default: None]\n",
            "               lambda_GAN: 1.0                           \n",
            "               lambda_NCE: 1.0                           \n",
            "                load_size: 441                           \t[default: 256]\n",
            "         max_dataset_size: 64                            \t[default: inf]\n",
            "                    model: cut                           \n",
            "               n_layers_D: 3                             \n",
            "                     name: rgb2therm_CUT                 \t[default: experiment_name]\n",
            "                    nce_T: 0.07                          \n",
            "                  nce_idt: True                          \n",
            "nce_includes_all_negatives_from_minibatch: False                         \n",
            "               nce_layers: 0,4,8,12,16                   \n",
            "                      ndf: 64                            \n",
            "                     netD: basic                         \n",
            "                     netF: mlp_sample                    \n",
            "                  netF_nc: 256                           \n",
            "                     netG: resnet_9blocks                \n",
            "                      ngf: 64                            \n",
            "             no_antialias: False                         \n",
            "          no_antialias_up: False                         \n",
            "               no_dropout: True                          \n",
            "                  no_flip: False                         \n",
            "                    normD: instance                      \n",
            "                    normG: instance                      \n",
            "              num_patches: 256                           \n",
            "                 num_test: 50                            \n",
            "              num_threads: 4                             \n",
            "                output_nc: 3                             \n",
            "                    phase: test                          \n",
            "                pool_size: 0                             \n",
            "               preprocess: resize_and_crop               \n",
            "         random_scale_max: 3.0                           \n",
            "              results_dir: ./results/                    \n",
            "           serial_batches: False                         \n",
            "stylegan2_G_num_downsampling: 1                             \n",
            "                   suffix:                               \n",
            "                  verbose: False                         \n",
            "----------------- End -------------------\n",
            "dataset [UnalignedDataset] was created\n",
            "dataset [UnalignedDataset] was created\n",
            "model [CUTModel] was created\n",
            "creating web directory ./results/rgb2therm_CUT/test_latest\n",
            "loading the model from ./checkpoints/rgb2therm_CUT/latest_net_G.pth\n",
            "---------- Networks initialized -------------\n",
            "[Network G] Total number of parameters : 11.378 M\n",
            "-----------------------------------------------\n",
            "processing (0000)-th image... ['./datasets/rgb2therm/testA/001_01_D2_vis.bmp']\n",
            "processing (0005)-th image... ['./datasets/rgb2therm/testA/008_01_D4_vis.bmp']\n",
            "processing (0010)-th image... ['./datasets/rgb2therm/testA/015_01_D2_vis.bmp']\n",
            "processing (0015)-th image... ['./datasets/rgb2therm/testA/026_01_D3_vis.bmp']\n",
            "processing (0020)-th image... ['./datasets/rgb2therm/testA/037_01_D3_vis.bmp']\n",
            "processing (0025)-th image... ['./datasets/rgb2therm/testA/049_01_D1_vis.bmp']\n",
            "processing (0030)-th image... ['./datasets/rgb2therm/testA/065_01_D2_vis.bmp']\n",
            "processing (0035)-th image... ['./datasets/rgb2therm/testA/077_02_D1_vis.bmp']\n",
            "processing (0040)-th image... ['./datasets/rgb2therm/testA/090_02_D1_vis.bmp']\n",
            "processing (0045)-th image... ['./datasets/rgb2therm/testA/102_02_D1_vis.bmp']\n"
          ]
        }
      ]
    },
    {
      "cell_type": "code",
      "metadata": {
        "id": "gcp7SF1cFSdm"
      },
      "source": [],
      "execution_count": null,
      "outputs": []
    }
  ]
}